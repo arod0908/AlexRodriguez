{
 "cells": [
  {
   "cell_type": "markdown",
   "id": "f587c17a",
   "metadata": {},
   "source": [
    "# Movie Recommender Project\n",
    "\n",
    "# Introduction\n",
    "In this case study, we will analyze data from MovieLens 100K and train a model to give recommendations to users based off their ratings on movies the user has seen. \n",
    "\n",
    "To train the model we will be using SVD as our model. \n",
    "\n",
    "Based on MovieLens 100K data from here: https://dl.acm.org/doi/10.1145/2827872"
   ]
  },
  {
   "cell_type": "code",
   "execution_count": 14,
   "id": "ae0f2fc4",
   "metadata": {},
   "outputs": [],
   "source": [
    "# Library\n",
    "import pandas as pd\n",
    "import numpy as np\n",
    "from surprise import Dataset, Reader\n",
    "from surprise import SVD\n",
    "from surprise import accuracy\n",
    "from surprise.model_selection import train_test_split\n",
    "from surprise.model_selection import KFold\n",
    "from sklearn.metrics import roc_curve, auc\n",
    "import matplotlib.pyplot as plt\n"
   ]
  },
  {
   "cell_type": "code",
   "execution_count": 13,
   "id": "02bc6ee5",
   "metadata": {},
   "outputs": [
    {
     "name": "stdout",
     "output_type": "stream",
     "text": [
      "    user_id  movie_id  rating\n",
      "0         1         1       5\n",
      "1         1         2       3\n",
      "2         1         3       4\n",
      "3         1         4       3\n",
      "4         1         5       3\n",
      "5         1         7       4\n",
      "6         1         8       1\n",
      "7         1         9       5\n",
      "8         1        11       2\n",
      "9         1        13       5\n",
      "10        1        15       5\n",
      "11        1        16       5\n",
      "12        1        18       4\n",
      "13        1        19       5\n",
      "14        1        21       1\n",
      "15        1        22       4\n",
      "16        1        25       4\n",
      "17        1        26       3\n",
      "18        1        28       4\n",
      "19        1        29       1\n",
      "20        1        30       3\n",
      "21        1        32       5\n",
      "22        1        34       2\n",
      "23        1        35       1\n",
      "24        1        37       2\n",
      "25        1        38       3\n",
      "26        1        40       3\n",
      "27        1        41       2\n",
      "28        1        42       5\n",
      "29        1        43       4\n",
      "30        1        45       5\n",
      "31        1        46       4\n",
      "32        1        48       5\n",
      "33        1        50       5\n",
      "34        1        52       4\n",
      "35        1        55       5\n",
      "36        1        57       5\n",
      "37        1        58       4\n",
      "38        1        59       5\n",
      "39        1        63       2\n",
      "40        1        66       4\n",
      "41        1        68       4\n",
      "42        1        71       3\n",
      "43        1        75       4\n",
      "44        1        77       4\n",
      "45        1        79       4\n",
      "46        1        83       3\n",
      "47        1        87       5\n",
      "48        1        88       4\n",
      "49        1        89       5\n"
     ]
    }
   ],
   "source": [
    "# Define File Paths\n",
    "Movie_Base = \"/Users/alexrodriguez/Desktop/Graduate Classes/Data Mining II/Projects/movielens_100k.base\"\n",
    "Movie_Test = \"/Users/alexrodriguez/Desktop/Graduate Classes/Data Mining II/Projects/movielens_100k.test\"\n",
    "\n",
    "# Define column names\n",
    "column_names = ['user_id', 'movie_id', 'rating', 'timestamp']\n",
    "\n",
    "# Load the dataset into a Pandas dataframe\n",
    "Base_data = pd.read_csv(Movie_Base, sep='\\t', names=column_names)\n",
    "\n",
    "# Drop the timestamp column\n",
    "Base_data = Base_data.drop('timestamp', axis=1)\n",
    "\n",
    "# Print the first few rows of the dataframe to verify the data has been loaded correctly\n",
    "print(Base_data.head(50))"
   ]
  },
  {
   "cell_type": "code",
   "execution_count": 4,
   "id": "b6f791c6",
   "metadata": {},
   "outputs": [],
   "source": [
    "# Define the reader to parse the rating scale\n",
    "reader = Reader(rating_scale=(1, 5))\n",
    "\n",
    "# Load the data into Surprise's Dataset class\n",
    "Base_data = Dataset.load_from_df(Base_data[['user_id', 'movie_id', 'rating']], reader)\n",
    "\n",
    "# Split the data into training and testing sets\n",
    "train_base, test_base = train_test_split(Base_data, test_size=0.2, random_state=50)\n"
   ]
  },
  {
   "cell_type": "code",
   "execution_count": null,
   "id": "e6ef1d50",
   "metadata": {},
   "outputs": [],
   "source": []
  },
  {
   "cell_type": "code",
   "execution_count": 5,
   "id": "46b748f9",
   "metadata": {},
   "outputs": [
    {
     "name": "stdout",
     "output_type": "stream",
     "text": [
      "RMSE: 0.9472\n",
      "RMSE: 0.947\n"
     ]
    }
   ],
   "source": [
    "# Define the model and fit it to the training data\n",
    "model = SVD()\n",
    "model.fit(train_base)\n",
    "\n",
    "# Generate predictions on the test data\n",
    "predictions = model.test(test_base)\n",
    "\n",
    "# Compute RMSE on the test data\n",
    "rmse = accuracy.rmse(predictions)\n",
    "print(f\"RMSE: {rmse:.3f}\")\n"
   ]
  },
  {
   "cell_type": "code",
   "execution_count": 12,
   "id": "d2fdd189",
   "metadata": {},
   "outputs": [
    {
     "name": "stdout",
     "output_type": "stream",
     "text": [
      "Top 5 recommended movies for user 1:\n",
      "Movie ID 483 predicted rating: 4.745\n",
      "Movie ID 169 predicted rating: 4.706\n",
      "Movie ID 318 predicted rating: 4.634\n",
      "Movie ID 50 predicted rating: 4.601\n",
      "Movie ID 647 predicted rating: 4.573\n"
     ]
    }
   ],
   "source": [
    "# Recommend top 5 movies for a given user\n",
    "user_id = 1\n",
    "user_ratings = Base_data.build_full_trainset().ur[user_id]\n",
    "unrated_movies = [item_id for item_id in Base_data.build_full_trainset().all_items() if item_id not in user_ratings]\n",
    "\n",
    "movie_ratings = [(item_id, model.predict(user_id, item_id).est) for item_id in unrated_movies]\n",
    "top_movies = sorted(movie_ratings, key=lambda x: x[1], reverse=True)[:5]\n",
    "print(f\"Top 5 recommended movies for user {user_id}:\")\n",
    "for movie_id, rating in top_movies:\n",
    "    print(f\"Movie ID {movie_id}\", f\"predicted rating: {rating:.3f}\")\n",
    "    \n"
   ]
  },
  {
   "cell_type": "code",
   "execution_count": 15,
   "id": "3dba7cb7",
   "metadata": {},
   "outputs": [],
   "source": [
    "Movie_Test = \"/Users/alexrodriguez/Desktop/Graduate Classes/Data Mining II/Projects/movielens_100k.test\"\n",
    "\n",
    "# Define column names\n",
    "column_names = ['user_id', 'movie_id', 'rating', 'timestamp']\n",
    "\n",
    "# Load the dataset into a Pandas dataframe\n",
    "Test_data = pd.read_csv(Movie_Test, sep='\\t', names=column_names)\n",
    "\n",
    "# Drop the timestamp column\n",
    "Test_data = Test_data.drop('timestamp', axis=1)"
   ]
  },
  {
   "cell_type": "code",
   "execution_count": 16,
   "id": "89d779fa",
   "metadata": {},
   "outputs": [],
   "source": [
    "# Define the reader to parse the rating scale\n",
    "reader = Reader(rating_scale=(1, 5))\n",
    "\n",
    "# Load the data into Surprise's Dataset class\n",
    "Test_data = Dataset.load_from_df(Test_data[['user_id', 'movie_id', 'rating']], reader)\n",
    "\n",
    "# Split the data into training and testing sets\n",
    "train_Test, test_Test = train_test_split(Test_data, test_size=0.2, random_state=50)\n"
   ]
  },
  {
   "cell_type": "code",
   "execution_count": 17,
   "id": "59865d7d",
   "metadata": {},
   "outputs": [
    {
     "name": "stdout",
     "output_type": "stream",
     "text": [
      "RMSE: 0.9785\n",
      "RMSE: 0.979\n"
     ]
    }
   ],
   "source": [
    "# Define the model\n",
    "model = SVD()\n",
    "model.fit(train_base)\n",
    "model.fit(train_Test)\n",
    "\n",
    "predictions = model.test(test_Test)\n",
    "\n",
    "# Compute RMSE on the test data\n",
    "rmse = accuracy.rmse(predictions)\n",
    "print(f\"RMSE: {rmse:.3f}\")"
   ]
  },
  {
   "cell_type": "code",
   "execution_count": 18,
   "id": "0da1ddf8",
   "metadata": {},
   "outputs": [
    {
     "name": "stdout",
     "output_type": "stream",
     "text": [
      "Top 5 recommended movies for user 10:\n",
      "Movie ID 483 predicted rating: 5.000\n",
      "Movie ID 127 predicted rating: 4.906\n",
      "Movie ID 174 predicted rating: 4.859\n",
      "Movie ID 96 predicted rating: 4.844\n",
      "Movie ID 114 predicted rating: 4.835\n"
     ]
    }
   ],
   "source": [
    "# Recommend top 5 movies for a given user\n",
    "user_id = 10\n",
    "user_ratings = Test_data.build_full_trainset().ur[user_id]\n",
    "unrated_movies = [item_id for item_id in Test_data.build_full_trainset().all_items() if item_id not in user_ratings]\n",
    "\n",
    "movie_ratings = [(item_id, model.predict(user_id, item_id).est) for item_id in unrated_movies]\n",
    "top_movies = sorted(movie_ratings, key=lambda x: x[1], reverse=True)[:5]\n",
    "print(f\"Top 5 recommended movies for user {user_id}:\")\n",
    "for movie_id, rating in top_movies:\n",
    "    print(f\"Movie ID {movie_id}\", f\"predicted rating: {rating:.3f}\")\n",
    "    \n"
   ]
  },
  {
   "cell_type": "code",
   "execution_count": 19,
   "id": "d2004727",
   "metadata": {},
   "outputs": [
    {
     "name": "stdout",
     "output_type": "stream",
     "text": [
      "Fold 1:\n",
      "RMSE: 1.0017\n",
      "RMSE: 1.002\n",
      "Fold 2:\n",
      "RMSE: 0.9764\n",
      "RMSE: 0.976\n",
      "Fold 3:\n",
      "RMSE: 1.0129\n",
      "RMSE: 1.013\n",
      "Fold 4:\n",
      "RMSE: 0.9958\n",
      "RMSE: 0.996\n",
      "Fold 5:\n",
      "RMSE: 0.9848\n",
      "RMSE: 0.985\n"
     ]
    }
   ],
   "source": [
    "# Define the cross-validation iterator\n",
    "kf = KFold(n_splits=5, random_state=1)\n",
    "\n",
    "# Perform cross-validation and compute RMSE for each fold\n",
    "for i, (trainset, testset) in enumerate (kf.split(Test_data)):\n",
    "    print(f\"Fold {i+1}:\")\n",
    "    # Fit the model to the training set for this fold\n",
    "    model.fit(trainset)\n",
    "    # Generate predictions on the test set for this fold\n",
    "    predictions = model.test(testset)\n",
    "    # Compute RMSE on the test set for this fold\n",
    "    rmse = accuracy.rmse(predictions)\n",
    "    print(f\"RMSE: {rmse:.3f}\")\n"
   ]
  },
  {
   "cell_type": "code",
   "execution_count": null,
   "id": "ce347b93",
   "metadata": {},
   "outputs": [],
   "source": []
  }
 ],
 "metadata": {
  "kernelspec": {
   "display_name": "Python 3 (ipykernel)",
   "language": "python",
   "name": "python3"
  },
  "language_info": {
   "codemirror_mode": {
    "name": "ipython",
    "version": 3
   },
   "file_extension": ".py",
   "mimetype": "text/x-python",
   "name": "python",
   "nbconvert_exporter": "python",
   "pygments_lexer": "ipython3",
   "version": "3.8.8"
  }
 },
 "nbformat": 4,
 "nbformat_minor": 5
}
